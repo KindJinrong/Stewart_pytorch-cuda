{
 "cells": [
  {
   "cell_type": "code",
   "execution_count": 611,
   "id": "c5b5863e-9778-4c7a-a783-ea70d25b21dc",
   "metadata": {},
   "outputs": [],
   "source": [
    "import torch\n",
    "from importlib import reload\n",
    "import sys\n",
    "sys.path.append(\"/home/wu/Ubuntu/parallel_kinematics/\")\n",
    "import help as hp\n",
    "reload(hp)\n",
    "device = torch.device(\"cuda\" if torch.cuda.is_available() else \"cpu\")\n",
    "dtype= torch.float64\n",
    "pi = torch.tensor(torch.pi,dtype=dtype)"
   ]
  },
  {
   "cell_type": "code",
   "execution_count": 612,
   "id": "5f626a01-1782-439a-a85a-746f4a71f928",
   "metadata": {
    "tags": []
   },
   "outputs": [
    {
     "data": {
      "text/plain": [
       "(tensor([1.5000, 1.0000, 1.5000], dtype=torch.float64),\n",
       " tensor([[ 0.7891, -0.4356,  0.4330],\n",
       "         [ 0.6124,  0.6124, -0.5000],\n",
       "         [-0.0474,  0.6597,  0.7500]], device='cuda:0', dtype=torch.float64))"
      ]
     },
     "execution_count": 612,
     "metadata": {},
     "output_type": "execute_result"
    }
   ],
   "source": [
    "r= torch.tensor([1.5,1,1.5],dtype=dtype)\n",
    "R = hp.screw_matrix_y(pi/6)@hp.screw_matrix_x(pi/6)@hp.screw_matrix_z(pi/4)\n",
    "\n",
    "para_bacward = hp.Parallel_backward(r,R,a = torch.tensor(0.5,dtype=dtype),b = torch.tensor(2.0,dtype=dtype),\n",
    "                                l_1=torch.tensor(0.1,dtype=dtype),l_2= torch.tensor(0.15,dtype=dtype),theta = pi/6)\n",
    "array_q = para_bacward.bacward_solver()\n",
    "r_all_vector= para_bacward.gen_matrix_r_c()\n",
    "\n",
    "r,R,\n",
    "      "
   ]
  },
  {
   "cell_type": "code",
   "execution_count": 613,
   "id": "dccbe8a5-d664-4e57-aefe-f80b3a2cbe6e",
   "metadata": {
    "tags": []
   },
   "outputs": [
    {
     "data": {
      "text/plain": [
       "(tensor([1.5000, 1.0000, 1.5000], device='cuda:0', dtype=torch.float64),\n",
       " tensor([[ 0.7891, -0.4356,  0.4330],\n",
       "         [ 0.6124,  0.6124, -0.5000],\n",
       "         [-0.0474,  0.6597,  0.7500]], device='cuda:0', dtype=torch.float64))"
      ]
     },
     "execution_count": 613,
     "metadata": {},
     "output_type": "execute_result"
    }
   ],
   "source": [
    "test_for = hp.Parallel_forward(r,R,a = torch.tensor(0.5,dtype=dtype),b = torch.tensor(2.0,dtype=dtype),\n",
    "                                l_1=torch.tensor(0.1,dtype=dtype),l_2= torch.tensor(0.15,dtype=dtype),\n",
    "                            array_q=array_q,theta = pi/6)\n",
    "\n",
    "#test_for.nonlinear_eqs(r_all_vector)\n",
    "test_for.solver(r_all_vector)"
   ]
  },
  {
   "cell_type": "code",
   "execution_count": null,
   "id": "08fa03a8-f946-4828-8513-88397970f7b3",
   "metadata": {},
   "outputs": [],
   "source": []
  }
 ],
 "metadata": {
  "kernelspec": {
   "display_name": "Python 3 (ipykernel)",
   "language": "python",
   "name": "python3"
  },
  "language_info": {
   "codemirror_mode": {
    "name": "ipython",
    "version": 3
   },
   "file_extension": ".py",
   "mimetype": "text/x-python",
   "name": "python",
   "nbconvert_exporter": "python",
   "pygments_lexer": "ipython3",
   "version": "3.8.15"
  }
 },
 "nbformat": 4,
 "nbformat_minor": 5
}
